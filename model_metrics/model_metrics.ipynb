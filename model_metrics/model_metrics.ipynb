{
 "cells": [
  {
   "cell_type": "markdown",
   "id": "effdec19",
   "metadata": {},
   "source": [
    "# Model Metrics Report"
   ]
  },
  {
   "cell_type": "markdown",
   "id": "bceded97",
   "metadata": {},
   "source": [
    "## Automate Log Pull"
   ]
  },
  {
   "cell_type": "markdown",
   "id": "7c383bc1",
   "metadata": {},
   "source": [
    "- [ ] Make AWS ACCESS KEY ENV variables\n",
    "- [ ] Use env variables for s3 pull"
   ]
  },
  {
   "cell_type": "code",
   "execution_count": null,
   "id": "4453e95c",
   "metadata": {},
   "outputs": [],
   "source": [
    "# Automate log pull\n",
    "import boto3\n",
    "s3 = boto3.client('s3', aws_access_key_id='AWS_ACCESS_KEY', aws_secret_access_key='AWS_SECRET_ACCESS_KEY')"
   ]
  },
  {
   "cell_type": "code",
   "execution_count": null,
   "id": "93ad64ce",
   "metadata": {},
   "outputs": [],
   "source": [
    "# \n",
    "bucket = 'bucket_name'\n",
    "object_name = 'bucket/file_path'\n",
    "local_file_name = 'path/to/save_file'\n",
    "\n",
    "s3.download_file(bucket, object_name, local_file_name)"
   ]
  },
  {
   "cell_type": "markdown",
   "id": "15eb3bba",
   "metadata": {},
   "source": [
    "## Compute Resource\n",
    "- [ ] Peak Memory Footprint (RAM and VRAM)\n",
    "- [ ] Compute Load -- inference time on reference device\n",
    "- [ ] Recommended Hardware Requirement (RAM, VRAM, #GPU) --> Informs Cloud Compute Cost"
   ]
  },
  {
   "cell_type": "code",
   "execution_count": null,
   "id": "50e54df6",
   "metadata": {},
   "outputs": [],
   "source": [
    "# Peak memory footprint\n"
   ]
  },
  {
   "cell_type": "markdown",
   "id": "ec44673c",
   "metadata": {},
   "source": [
    "## Cloud Compute Cost\n",
    "- [ ] On demand AWS EC2 hourly cost (based on recommended hardware requirement)\n",
    "- [ ] Cost per inference"
   ]
  },
  {
   "cell_type": "markdown",
   "id": "34a1e1e9",
   "metadata": {},
   "source": [
    "## Energy Consumption\n",
    "- [ ] Power usage (kWh/h)\n",
    "- [ ] Energy per inference"
   ]
  },
  {
   "cell_type": "markdown",
   "id": "7c192a35",
   "metadata": {},
   "source": [
    "## Time\n",
    "- [ ] Inference latency (ms/query)\n",
    "- [ ] Inference throughput (queries or tokens/second)"
   ]
  },
  {
   "cell_type": "markdown",
   "id": "402735fe",
   "metadata": {},
   "source": [
    "## Scaling Efficiency\n",
    "- [ ] Parallelization efficiency\n",
    "- [ ] Resource utilization (i.e. GPU utilization)"
   ]
  }
 ],
 "metadata": {
  "kernelspec": {
   "display_name": "ml_dev",
   "language": "python",
   "name": "python3"
  },
  "language_info": {
   "codemirror_mode": {
    "name": "ipython",
    "version": 3
   },
   "file_extension": ".py",
   "mimetype": "text/x-python",
   "name": "python",
   "nbconvert_exporter": "python",
   "pygments_lexer": "ipython3",
   "version": "3.13.1"
  }
 },
 "nbformat": 4,
 "nbformat_minor": 5
}
