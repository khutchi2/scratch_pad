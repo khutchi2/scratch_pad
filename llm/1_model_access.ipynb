{
 "cells": [
  {
   "cell_type": "markdown",
   "id": "ff447363",
   "metadata": {},
   "source": [
    "# Accessing Huggingface Models"
   ]
  },
  {
   "cell_type": "code",
   "execution_count": null,
   "id": "28cc6343",
   "metadata": {},
   "outputs": [],
   "source": [
    "from transformers import AutoModelForCausalLM, AutoTokenizer"
   ]
  },
  {
   "cell_type": "markdown",
   "id": "e56a1eb8",
   "metadata": {},
   "source": [
    "### Direct Access\n",
    "Access a model directly (not using a pipeline)\n",
    "\n",
    "GPT2 has 124M models"
   ]
  },
  {
   "cell_type": "code",
   "execution_count": null,
   "id": "1d3a21df",
   "metadata": {},
   "outputs": [],
   "source": [
    "# Define tokenizer\n",
    "tokenizer = AutoTokenizer.from_pretrained(\"gpt2\")\n",
    "\n",
    "# Download model\n",
    "model = AutoModelForCausalLM.from_pretrained(\"gpt2\", pad_token_id=tokenizer.eos_token_id)"
   ]
  },
  {
   "cell_type": "code",
   "execution_count": null,
   "id": "280ea2d4",
   "metadata": {},
   "outputs": [],
   "source": [
    "# Try having the model complete the sentence\n",
    "model_inputs = tokenizer(\"I enjoy walking with my cute dog\", return_tensors='pt')\n",
    "\n",
    "# Generate 40 new tokens\n",
    "greedy_output = model.generate(**model_inputs, max_new_tokens=40)\n",
    "\n",
    "print(\"Output:\\n\" + 100 * \"-\")\n",
    "print(tokenizer.decode(greedy_output[0], skip_special_tokens=True))"
   ]
  },
  {
   "cell_type": "markdown",
   "id": "36ee1afd",
   "metadata": {},
   "source": [
    "### Pipeline\n",
    "HF pipelines are a lovely abstraction for inferencing on models in HF hub.  \n",
    "\n",
    "It bundles together the tokenizer and model and makes inference simple."
   ]
  },
  {
   "cell_type": "code",
   "execution_count": null,
   "id": "e8cfb4b2",
   "metadata": {},
   "outputs": [],
   "source": [
    "# use pipelines\n",
    "from transformers import pipeline\n",
    "\n",
    "pipe = pipeline(\"text-generation\", model=\"gpt2\")"
   ]
  },
  {
   "cell_type": "code",
   "execution_count": null,
   "id": "43e4cbed",
   "metadata": {},
   "outputs": [],
   "source": [
    "# Sentence completion\n",
    "gen1 = pipe(\"I enjoy walking with my cute dog\", truncation=True, max_length=30, num_return_sequences=1)\n",
    "print(gen1)"
   ]
  },
  {
   "cell_type": "code",
   "execution_count": null,
   "id": "010fb766",
   "metadata": {},
   "outputs": [],
   "source": [
    "# Sentence completion\n",
    "gen2 = pipe(\"I enjoy walking with my cute dog\", truncation=True, max_length=30, num_return_sequences=5)\n",
    "print(gen2)"
   ]
  }
 ],
 "metadata": {
  "kernelspec": {
   "display_name": "ml_dev",
   "language": "python",
   "name": "python3"
  },
  "language_info": {
   "codemirror_mode": {
    "name": "ipython",
    "version": 3
   },
   "file_extension": ".py",
   "mimetype": "text/x-python",
   "name": "python",
   "nbconvert_exporter": "python",
   "pygments_lexer": "ipython3",
   "version": "3.13.1"
  }
 },
 "nbformat": 4,
 "nbformat_minor": 5
}
