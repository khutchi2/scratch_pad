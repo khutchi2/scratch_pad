{
 "cells": [
  {
   "cell_type": "markdown",
   "id": "b16dadaa",
   "metadata": {},
   "source": [
    "Quick script for sticking in a csv of timestamps for each file in the CIA abottabad complex dataset."
   ]
  },
  {
   "cell_type": "code",
   "execution_count": 1,
   "id": "ec74cb97",
   "metadata": {},
   "outputs": [],
   "source": [
    "import datetime\n",
    "import os\n",
    "import random\n",
    "from faker import Faker\n",
    "import pandas as pd\n",
    "import re"
   ]
  },
  {
   "cell_type": "code",
   "execution_count": 2,
   "id": "d12b4e69",
   "metadata": {},
   "outputs": [],
   "source": [
    "def generate_timestamps(list_of_files):\n",
    "    timestamps = []\n",
    "\n",
    "    # Generate start and end dates\n",
    "    start_year = random.randint(2001, 2010)\n",
    "    end_year = start_year + 1\n",
    "\n",
    "    start_month = random.randint(1, 11)\n",
    "    end_month = start_month + 1\n",
    "\n",
    "    start_day = random.randint(1, 27)\n",
    "    end_day = start_day + 1\n",
    "\n",
    "    start_date = datetime.datetime(start_year, start_month, start_day)\n",
    "    end_date = datetime.datetime(end_year, end_month, end_day)\n",
    "\n",
    "    # Generate a random date time\n",
    "    start_fake_date = fake.date_time_between(start_date, end_date)\n",
    "\n",
    "    for file in list_of_files:\n",
    "        second_step = random.randint(1, 59)\n",
    "        minute_step = random.randint(1, 59)\n",
    "        microsecond_step = random.randint(1, 999999)\n",
    "        start_fake_date += datetime.timedelta(microseconds=microsecond_step, seconds=second_step, minutes=minute_step)\n",
    "        timestamps.append(start_fake_date)\n",
    "\n",
    "    return timestamps\n"
   ]
  },
  {
   "cell_type": "code",
   "execution_count": 44,
   "id": "8d3a4ee5",
   "metadata": {},
   "outputs": [],
   "source": [
    "def get_file_extension(file):\n",
    "    pattern = re.compile(r\"\\.[a-zA-Z]+$\")\n",
    "    search = pattern.search(file)\n",
    "    if search:\n",
    "        extension = search.group().split(\".\")[1]\n",
    "        return extension.upper()\n",
    "    else:\n",
    "        return \"NO FILE EXTENSION\""
   ]
  },
  {
   "cell_type": "code",
   "execution_count": 3,
   "id": "920b2076",
   "metadata": {},
   "outputs": [],
   "source": [
    "# Get list of device directories\n",
    "path = \".\"\n",
    "device_list = os.listdir(path)\n",
    "\n",
    "# Instantiate Faker object\n",
    "fake = Faker()"
   ]
  },
  {
   "cell_type": "code",
   "execution_count": null,
   "id": "90f61fad",
   "metadata": {},
   "outputs": [],
   "source": [
    "# Find all device folders\n",
    "pattern = re.compile(r\"\\d+\")\n",
    "match_list = [file for file in device_list if pattern.match(file)]\n",
    "match_list\n",
    "\n",
    "# Run through device folders, make timestamps\n",
    "# Also, find file types\n",
    "for device_folder in match_list:\n",
    "    file_list = os.listdir(device_folder)\n",
    "\n",
    "    # Randomly generate timestamps for groups of files\n",
    "    files_counter = 0\n",
    "    timestamps_list = []\n",
    "\n",
    "    while files_counter < len(file_list):\n",
    "        random_group_size = random.randint(1, len(file_list))\n",
    "        file_subset = file_list[files_counter : (files_counter + random_group_size)]\n",
    "        timestamps_list.extend(generate_timestamps(file_subset))\n",
    "        files_counter += random_group_size\n",
    "\n",
    "    # Get all file extensions\n",
    "    file_ext_list = [get_file_extension(file) for file in file_list]\n",
    "    data_dict = {\"Filename\":file_list, \"Timestamp\":timestamps_list, \"File Type\":file_ext_list}\n",
    "    df = pd.DataFrame(data_dict)\n",
    "    df.to_csv(f\"{device_folder}/000_{device_folder}_TIMESTAMPS.csv\")\n",
    "    "
   ]
  }
 ],
 "metadata": {
  "kernelspec": {
   "display_name": "ml_dev",
   "language": "python",
   "name": "python3"
  },
  "language_info": {
   "codemirror_mode": {
    "name": "ipython",
    "version": 3
   },
   "file_extension": ".py",
   "mimetype": "text/x-python",
   "name": "python",
   "nbconvert_exporter": "python",
   "pygments_lexer": "ipython3",
   "version": "undefined.undefined.undefined"
  }
 },
 "nbformat": 4,
 "nbformat_minor": 5
}
